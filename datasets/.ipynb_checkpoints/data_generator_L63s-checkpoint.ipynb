{
 "cells": [
  {
   "cell_type": "markdown",
   "metadata": {
    "colab_type": "text",
    "id": "_GOI4IwWnKo3"
   },
   "source": [
    "A script to generate a L63s dataset for DAODEN\n",
    "https://arxiv.org/abs/2009.02296\n",
    "\n",
    "- Training set: 200 sequences of length of 150.\n",
    "- Validation set: 50 sequences of length of 150.\n",
    "- Test set: 50 sequences of length of 1000.\n",
    "- dt_integration: 0.01"
   ]
  },
  {
   "cell_type": "markdown",
   "metadata": {
    "colab_type": "text",
    "id": "aRgLQPZrn5Ff"
   },
   "source": [
    "## Config"
   ]
  },
  {
   "cell_type": "code",
   "execution_count": 1,
   "metadata": {
    "colab": {
     "base_uri": "https://localhost:8080/",
     "height": 363
    },
    "colab_type": "code",
    "executionInfo": {
     "elapsed": 1357,
     "status": "error",
     "timestamp": 1597180434973,
     "user": {
      "displayName": "Duong NGUYEN",
      "photoUrl": "https://lh3.googleusercontent.com/a-/AOh14GhrGQ6hap4FrjSNavB_N53t28e7vDdpV7ig44qE=s64",
      "userId": "07594812762314191655"
     },
     "user_tz": -120
    },
    "id": "7Etoac1RnKo_",
    "outputId": "3b1aa84d-886f-4e6c-c150-99a0e6fa11af"
   },
   "outputs": [],
   "source": [
    "%load_ext autoreload\n",
    "%autoreload 2\n",
    "import numpy as np\n",
    "import matplotlib.pyplot as plt\n",
    "from mpl_toolkits.mplot3d import Axes3D\n",
    "import pickle\n",
    "import os\n",
    "import sys\n",
    "sys.path.append(\"..\")\n",
    "from tqdm import tqdm\n",
    "import sdeint\n",
    "import daoden_utils\n",
    "np.random.seed(1234)\n",
    "\n",
    "N_init = 5000\n",
    "\n",
    "v_mean   = daoden_utils.L63_MEAN.astype(np.float32)\n",
    "v_std    = daoden_utils.L63_STD.astype(np.float32)\n",
    "v_range  = daoden_utils.L63_RANGE.astype(np.float32)"
   ]
  },
  {
   "cell_type": "code",
   "execution_count": 2,
   "metadata": {
    "colab": {},
    "colab_type": "code",
    "executionInfo": {
     "elapsed": 1343,
     "status": "aborted",
     "timestamp": 1597180434968,
     "user": {
      "displayName": "Duong NGUYEN",
      "photoUrl": "https://lh3.googleusercontent.com/a-/AOh14GhrGQ6hap4FrjSNavB_N53t28e7vDdpV7ig44qE=s64",
      "userId": "07594812762314191655"
     },
     "user_tz": -120
    },
    "id": "FlxCZfD_XbGF"
   },
   "outputs": [],
   "source": [
    "### GENERATE SIMULATED DATA (LORENZ-96 MODEL)\n",
    "class Simulator():\n",
    "    model_name = 'L63s'\n",
    "    data_dim   = 3\n",
    "    class parameters:\n",
    "        sigma = 10.0\n",
    "        rho = 28.0\n",
    "        beta = 8.0/3\n",
    "        gamma = 2.0\n",
    "    dt_integration = 0.01 \n",
    "    n_ics_train = 200\n",
    "    n_ics_valid = 50\n",
    "    n_ics_test = 50\n",
    "    seq_len_train      = 150\n",
    "    seq_len_valid      = 150\n",
    "    seq_len_test       = 1000\n",
    "    noise_ratio        = 0.09\n",
    "\n",
    "simulator = Simulator()\n",
    "v_mean   = daoden_utils.L63_MEAN.astype(np.float32)\n",
    "v_std    = daoden_utils.L63_STD.astype(np.float32)\n",
    "v_range  = daoden_utils.L63_RANGE.astype(np.float32)"
   ]
  },
  {
   "cell_type": "code",
   "execution_count": 3,
   "metadata": {
    "colab": {},
    "colab_type": "code",
    "executionInfo": {
     "elapsed": 1337,
     "status": "aborted",
     "timestamp": 1597180434970,
     "user": {
      "displayName": "Duong NGUYEN",
      "photoUrl": "https://lh3.googleusercontent.com/a-/AOh14GhrGQ6hap4FrjSNavB_N53t28e7vDdpV7ig44qE=s64",
      "userId": "07594812762314191655"
     },
     "user_tz": -120
    },
    "id": "yjWVQJWQnKpR"
   },
   "outputs": [],
   "source": [
    "def Lorenz63s(z,t,sigma,rho,beta,gamma):\n",
    "    \"\"\" Lorenz-63 dynamical model. \n",
    "    Args:\n",
    "        z: the state. shape = (3,)\n",
    "        t: time\n",
    "        sigma, rho, beta, gamma: the parapeters of L63s\n",
    "    Returns:\n",
    "        dzdt: dz/dt\n",
    "    \"\"\"\n",
    "    x_1 = sigma*(z[1]-z[0])-4*z[0]/(2*gamma)\n",
    "    x_2 = z[0]*(rho-z[2])-z[1]-4*z[0]/(2*gamma)\n",
    "    x_3 = z[0]*z[1] - beta*z[2] -8*z[2]/(2*gamma)\n",
    "    dzdt  = np.array([x_1,x_2,x_3])\n",
    "    \n",
    "    return dzdt\n",
    "\n",
    "def Stoch_Lorenz_63(S,t,\n",
    "                    sigma=simulator.parameters.sigma, \n",
    "                    rho = simulator.parameters.rho, \n",
    "                    beta = simulator.parameters.beta, \n",
    "                    gamma = simulator.parameters.gamma):\n",
    "    \"\"\" Lorenz-63 dynamical model. \"\"\"\n",
    "    x_1 = sigma*(S[1]-S[0])-4*S[0]/(2*gamma);\n",
    "    x_2 = S[0]*(rho-S[2])-S[1] -4*S[1]/(2*gamma);\n",
    "    x_3 = S[0]*S[1] - beta*S[2] -8*S[2]/(2*gamma);\n",
    "    dS  = np.array([x_1,x_2,x_3]);\n",
    "    return dS\n",
    "\n",
    "def brownian_process(S,t,\n",
    "                     sigma=simulator.parameters.sigma, \n",
    "                     rho = simulator.parameters.rho,\n",
    "                     beta = simulator.parameters.beta,\n",
    "                     gamma = simulator.parameters.gamma):\n",
    "    x_1 = 0.0;\n",
    "    x_2 = (rho - S[2])/np.sqrt(gamma);\n",
    "    x_3 = (S[1])/np.sqrt(gamma);\n",
    "    dS  = np.array([x_1,x_2,x_3]);\n",
    "    G = np.eye((3))\n",
    "    np.fill_diagonal(G,dS)\n",
    "    return G"
   ]
  },
  {
   "cell_type": "code",
   "execution_count": 4,
   "metadata": {
    "colab": {},
    "colab_type": "code",
    "executionInfo": {
     "elapsed": 1725,
     "status": "aborted",
     "timestamp": 1597180435366,
     "user": {
      "displayName": "Duong NGUYEN",
      "photoUrl": "https://lh3.googleusercontent.com/a-/AOh14GhrGQ6hap4FrjSNavB_N53t28e7vDdpV7ig44qE=s64",
      "userId": "07594812762314191655"
     },
     "user_tz": -120
    },
    "id": "xon4uF6EnKqD"
   },
   "outputs": [
    {
     "name": "stdout",
     "output_type": "stream",
     "text": [
      "0.09\n",
      "[0.5042424 0.6540986 0.5907246]\n",
      "[5.602694  7.2677617 6.5636067]\n"
     ]
    }
   ],
   "source": [
    "print(simulator.noise_ratio)\n",
    "print((simulator.noise_ratio*v_std)**2)\n",
    "print(simulator.noise_ratio*(v_std**2))"
   ]
  },
  {
   "cell_type": "code",
   "execution_count": 5,
   "metadata": {
    "colab": {},
    "colab_type": "code",
    "executionInfo": {
     "elapsed": 1720,
     "status": "aborted",
     "timestamp": 1597180435367,
     "user": {
      "displayName": "Duong NGUYEN",
      "photoUrl": "https://lh3.googleusercontent.com/a-/AOh14GhrGQ6hap4FrjSNavB_N53t28e7vDdpV7ig44qE=s64",
      "userId": "07594812762314191655"
     },
     "user_tz": -120
    },
    "id": "yW9ya5MnnKqN"
   },
   "outputs": [],
   "source": [
    "np.random.seed(1234)"
   ]
  },
  {
   "cell_type": "markdown",
   "metadata": {
    "colab_type": "text",
    "id": "0ii1QhOkn9GS"
   },
   "source": [
    "## Generates training sequences"
   ]
  },
  {
   "cell_type": "code",
   "execution_count": 6,
   "metadata": {
    "colab": {},
    "colab_type": "code",
    "executionInfo": {
     "elapsed": 1718,
     "status": "aborted",
     "timestamp": 1597180435369,
     "user": {
      "displayName": "Duong NGUYEN",
      "photoUrl": "https://lh3.googleusercontent.com/a-/AOh14GhrGQ6hap4FrjSNavB_N53t28e7vDdpV7ig44qE=s64",
      "userId": "07594812762314191655"
     },
     "user_tz": -120
    },
    "id": "rl31EcTlXbGr"
   },
   "outputs": [
    {
     "data": {
      "text/plain": [
       "(3,)"
      ]
     },
     "execution_count": 6,
     "metadata": {},
     "output_type": "execute_result"
    }
   ],
   "source": [
    "v_range.shape"
   ]
  },
  {
   "cell_type": "code",
   "execution_count": null,
   "metadata": {
    "colab": {},
    "colab_type": "code",
    "executionInfo": {
     "elapsed": 1714,
     "status": "aborted",
     "timestamp": 1597180435370,
     "user": {
      "displayName": "Duong NGUYEN",
      "photoUrl": "https://lh3.googleusercontent.com/a-/AOh14GhrGQ6hap4FrjSNavB_N53t28e7vDdpV7ig44qE=s64",
      "userId": "07594812762314191655"
     },
     "user_tz": -120
    },
    "id": "5fwEyHZsnKqW"
   },
   "outputs": [
    {
     "name": "stdout",
     "output_type": "stream",
     "text": [
      "(200, 150, 3)\n"
     ]
    }
   ],
   "source": [
    "N_init = 5000\n",
    "ics_train    = v_range*(np.random.rand(simulator.n_ics_train, simulator.data_dim)-.5) + v_mean\n",
    "seqs_train   = np.zeros((simulator.n_ics_train,simulator.seq_len_train,simulator.data_dim))\n",
    "obs_train    = np.zeros(seqs_train.shape)\n",
    "masks_train  = np.zeros(seqs_train.shape)\n",
    "print(seqs_train.shape)\n",
    "for idx in range(simulator.n_ics_train):\n",
    "    x0 = ics_train[idx,:] # shape = (3,)\n",
    "    tmp = sdeint.itoEuler(Stoch_Lorenz_63, \n",
    "                          brownian_process, \n",
    "                          x0, \n",
    "                          np.arange(0,(simulator.seq_len_train+N_init)*simulator.dt_integration,1e-4)\n",
    "                         )\n",
    "    tmp = tmp[::round(simulator.dt_integration/1e-4)]\n",
    "    seqs_train[idx,:,:] = tmp[N_init:]\n",
    "    # generate  partial/noisy observations (yo)\n",
    "    eps = np.random.multivariate_normal(np.zeros(3),\n",
    "                                        cov=np.diag((simulator.noise_ratio*v_std)**2),\n",
    "                                        size=simulator.seq_len_train);\n",
    "    obs_train[idx,:,:] = seqs_train[idx,:,:]+eps\n",
    "    for d_i in range(simulator.data_dim):\n",
    "        masks_train[idx,np.random.choice(simulator.seq_len_train, int(simulator.seq_len_train/8),replace=False),d_i] = 1.0"
   ]
  },
  {
   "cell_type": "code",
   "execution_count": null,
   "metadata": {
    "colab": {},
    "colab_type": "code",
    "executionInfo": {
     "elapsed": 1708,
     "status": "aborted",
     "timestamp": 1597180435372,
     "user": {
      "displayName": "Duong NGUYEN",
      "photoUrl": "https://lh3.googleusercontent.com/a-/AOh14GhrGQ6hap4FrjSNavB_N53t28e7vDdpV7ig44qE=s64",
      "userId": "07594812762314191655"
     },
     "user_tz": -120
    },
    "id": "8j05OxU_nKqc"
   },
   "outputs": [],
   "source": [
    "masks_train.shape"
   ]
  },
  {
   "cell_type": "code",
   "execution_count": null,
   "metadata": {
    "colab": {},
    "colab_type": "code",
    "executionInfo": {
     "elapsed": 1697,
     "status": "aborted",
     "timestamp": 1597180435374,
     "user": {
      "displayName": "Duong NGUYEN",
      "photoUrl": "https://lh3.googleusercontent.com/a-/AOh14GhrGQ6hap4FrjSNavB_N53t28e7vDdpV7ig44qE=s64",
      "userId": "07594812762314191655"
     },
     "user_tz": -120
    },
    "id": "zvHWzHdHnKqo"
   },
   "outputs": [],
   "source": [
    "print(masks_train[0].shape)\n",
    "print(np.count_nonzero(masks_train[0]))\n",
    "150*3/8"
   ]
  },
  {
   "cell_type": "markdown",
   "metadata": {
    "colab_type": "text",
    "id": "BIU7Fs0mnKqx"
   },
   "source": [
    "### Generates validation sequences"
   ]
  },
  {
   "cell_type": "code",
   "execution_count": null,
   "metadata": {
    "colab": {},
    "colab_type": "code",
    "executionInfo": {
     "elapsed": 1689,
     "status": "aborted",
     "timestamp": 1597180435375,
     "user": {
      "displayName": "Duong NGUYEN",
      "photoUrl": "https://lh3.googleusercontent.com/a-/AOh14GhrGQ6hap4FrjSNavB_N53t28e7vDdpV7ig44qE=s64",
      "userId": "07594812762314191655"
     },
     "user_tz": -120
    },
    "id": "yySsFDvZnKq0"
   },
   "outputs": [],
   "source": [
    "N_init = 5000\n",
    "ics_valid    = v_range*(np.random.rand(simulator.n_ics_valid, simulator.data_dim)-.5) + v_mean\n",
    "seqs_valid   = np.zeros((simulator.n_ics_valid,simulator.seq_len_valid,simulator.data_dim))\n",
    "obs_valid    = np.zeros(seqs_valid.shape)\n",
    "masks_valid  = np.zeros(seqs_valid.shape)\n",
    "print(seqs_valid.shape)\n",
    "for idx in range(simulator.n_ics_valid):\n",
    "    x0 = ics_valid[idx,:] # shape = (3,)\n",
    "    tmp = sdeint.itoEuler(Stoch_Lorenz_63, \n",
    "                          brownian_process, \n",
    "                          x0, \n",
    "                          np.arange(0,(simulator.seq_len_valid+N_init)*simulator.dt_integration,1e-4)\n",
    "                         )\n",
    "    tmp = tmp[::round(simulator.dt_integration/1e-4)]\n",
    "    seqs_valid[idx,:,:] = tmp[N_init:]\n",
    "    # generate  partial/noisy observations (yo)\n",
    "    eps = np.random.multivariate_normal(np.zeros(3),\n",
    "                                        cov=np.diag((simulator.noise_ratio*v_std)**2),\n",
    "                                        size=simulator.seq_len_valid);\n",
    "    obs_valid[idx,:,:] = seqs_valid[idx,:,:]+eps\n",
    "    for d_i in range(simulator.data_dim):\n",
    "        masks_valid[idx,np.random.choice(simulator.seq_len_valid, int(simulator.seq_len_valid/8),replace=False),d_i] = 1.0"
   ]
  },
  {
   "cell_type": "markdown",
   "metadata": {
    "colab_type": "text",
    "id": "HbrV6iUGnKq_"
   },
   "source": [
    "### Generates test sequences"
   ]
  },
  {
   "cell_type": "code",
   "execution_count": null,
   "metadata": {
    "colab": {},
    "colab_type": "code",
    "executionInfo": {
     "elapsed": 1683,
     "status": "aborted",
     "timestamp": 1597180435376,
     "user": {
      "displayName": "Duong NGUYEN",
      "photoUrl": "https://lh3.googleusercontent.com/a-/AOh14GhrGQ6hap4FrjSNavB_N53t28e7vDdpV7ig44qE=s64",
      "userId": "07594812762314191655"
     },
     "user_tz": -120
    },
    "id": "4GoduqcMnKrC"
   },
   "outputs": [],
   "source": [
    "N_init = 5000\n",
    "ics_test    = v_range*(np.random.rand(simulator.n_ics_test, simulator.data_dim)-.5) + v_mean\n",
    "seqs_test   = np.zeros((simulator.n_ics_test,simulator.seq_len_test,simulator.data_dim))\n",
    "obs_test    = np.zeros(seqs_test.shape)\n",
    "masks_test  = np.zeros(seqs_test.shape)\n",
    "print(seqs_test.shape)\n",
    "for idx in range(simulator.n_ics_test):\n",
    "    x0 = ics_test[idx,:] # shape = (3,)\n",
    "    tmp = sdeint.itoEuler(Stoch_Lorenz_63, \n",
    "                          brownian_process, \n",
    "                          x0, \n",
    "                          np.arange(0,(simulator.seq_len_test+N_init)*simulator.dt_integration,1e-4)\n",
    "                         )\n",
    "    tmp = tmp[::round(simulator.dt_integration/1e-4)]\n",
    "    seqs_test[idx,:,:] = tmp[N_init:]\n",
    "    # generate  partial/noisy observations (yo)\n",
    "    eps = np.random.multivariate_normal(np.zeros(3),\n",
    "                                        cov=np.diag((simulator.noise_ratio*v_std)**2),\n",
    "                                        size=simulator.seq_len_test);\n",
    "    obs_test[idx,:,:] = seqs_test[idx,:,:]+eps\n",
    "    for d_i in range(simulator.data_dim):\n",
    "        masks_test[idx,np.random.choice(simulator.seq_len_test, int(simulator.seq_len_test/8),replace=False),d_i] = 1.0"
   ]
  },
  {
   "cell_type": "code",
   "execution_count": null,
   "metadata": {
    "colab": {},
    "colab_type": "code",
    "executionInfo": {
     "elapsed": 1676,
     "status": "aborted",
     "timestamp": 1597180435378,
     "user": {
      "displayName": "Duong NGUYEN",
      "photoUrl": "https://lh3.googleusercontent.com/a-/AOh14GhrGQ6hap4FrjSNavB_N53t28e7vDdpV7ig44qE=s64",
      "userId": "07594812762314191655"
     },
     "user_tz": -120
    },
    "id": "2B9TIdrFnKrM"
   },
   "outputs": [],
   "source": [
    "FIG_DPI = 80\n",
    "fig=plt.figure(figsize=(1920/2/FIG_DPI, 1080/2/FIG_DPI), dpi=FIG_DPI)\n",
    "daoden_utils.plot_attractor(seqs_test[8,:,:],fig,title=\"\",color='red')"
   ]
  },
  {
   "cell_type": "markdown",
   "metadata": {
    "colab_type": "text",
    "id": "z2hq6GHKoIJB"
   },
   "source": [
    "## Save to disk"
   ]
  },
  {
   "cell_type": "code",
   "execution_count": null,
   "metadata": {
    "colab": {},
    "colab_type": "code",
    "executionInfo": {
     "elapsed": 1673,
     "status": "aborted",
     "timestamp": 1597180435382,
     "user": {
      "displayName": "Duong NGUYEN",
      "photoUrl": "https://lh3.googleusercontent.com/a-/AOh14GhrGQ6hap4FrjSNavB_N53t28e7vDdpV7ig44qE=s64",
      "userId": "07594812762314191655"
     },
     "user_tz": -120
    },
    "id": "ydYeHUUwnKrV"
   },
   "outputs": [],
   "source": [
    "save_dir = simulator.model_name\\\n",
    "            +\"-gamma-\"+str(simulator.parameters.gamma)\\\n",
    "            +\"-r-\"+str(simulator.noise_ratio)+\"_att\"\n",
    "print(save_dir)\n",
    "if not os.path.exists(save_dir):\n",
    "    os.makedirs(save_dir)\n",
    "    \n",
    "np.save(os.path.join(save_dir,\"seqs_train.npy\"),seqs_train)\n",
    "np.save(os.path.join(save_dir,\"obs_train.npy\"),obs_train)\n",
    "np.save(os.path.join(save_dir,\"masks_train.npy\"),masks_train)\n",
    "np.save(os.path.join(save_dir,\"masks.npy\"),masks_train)"
   ]
  },
  {
   "cell_type": "code",
   "execution_count": null,
   "metadata": {
    "colab": {},
    "colab_type": "code",
    "executionInfo": {
     "elapsed": 1666,
     "status": "aborted",
     "timestamp": 1597180435383,
     "user": {
      "displayName": "Duong NGUYEN",
      "photoUrl": "https://lh3.googleusercontent.com/a-/AOh14GhrGQ6hap4FrjSNavB_N53t28e7vDdpV7ig44qE=s64",
      "userId": "07594812762314191655"
     },
     "user_tz": -120
    },
    "id": "Z9lOTGJZnKrc"
   },
   "outputs": [],
   "source": [
    "np.save(os.path.join(save_dir,\"seqs_valid.npy\"),seqs_valid)\n",
    "np.save(os.path.join(save_dir,\"obs_valid.npy\"),obs_valid)\n",
    "np.save(os.path.join(save_dir,\"masks_valid.npy\"),masks_valid)"
   ]
  },
  {
   "cell_type": "code",
   "execution_count": null,
   "metadata": {
    "colab": {},
    "colab_type": "code",
    "executionInfo": {
     "elapsed": 1661,
     "status": "aborted",
     "timestamp": 1597180435386,
     "user": {
      "displayName": "Duong NGUYEN",
      "photoUrl": "https://lh3.googleusercontent.com/a-/AOh14GhrGQ6hap4FrjSNavB_N53t28e7vDdpV7ig44qE=s64",
      "userId": "07594812762314191655"
     },
     "user_tz": -120
    },
    "id": "pxSzQpGAnKrl"
   },
   "outputs": [],
   "source": [
    "np.save(os.path.join(save_dir,\"seqs_test.npy\"),seqs_test)\n",
    "np.save(os.path.join(save_dir,\"obs_test.npy\"),obs_test)\n",
    "np.save(os.path.join(save_dir,\"masks_test.npy\"),masks_test)"
   ]
  },
  {
   "cell_type": "code",
   "execution_count": null,
   "metadata": {
    "colab": {},
    "colab_type": "code",
    "executionInfo": {
     "elapsed": 1655,
     "status": "aborted",
     "timestamp": 1597180435387,
     "user": {
      "displayName": "Duong NGUYEN",
      "photoUrl": "https://lh3.googleusercontent.com/a-/AOh14GhrGQ6hap4FrjSNavB_N53t28e7vDdpV7ig44qE=s64",
      "userId": "07594812762314191655"
     },
     "user_tz": -120
    },
    "id": "9NzM7jWknZEu"
   },
   "outputs": [],
   "source": []
  }
 ],
 "metadata": {
  "colab": {
   "collapsed_sections": [],
   "name": "data_generator_stoch.ipynb",
   "provenance": [],
   "toc_visible": true
  },
  "kernelspec": {
   "display_name": "Python 3 Tensorflow-gpu",
   "language": "python",
   "name": "python3gpu"
  },
  "language_info": {
   "codemirror_mode": {
    "name": "ipython",
    "version": 3
   },
   "file_extension": ".py",
   "mimetype": "text/x-python",
   "name": "python",
   "nbconvert_exporter": "python",
   "pygments_lexer": "ipython3",
   "version": "3.6.9"
  }
 },
 "nbformat": 4,
 "nbformat_minor": 1
}
