{
 "cells": [
  {
   "cell_type": "markdown",
   "metadata": {
    "colab_type": "text",
    "id": "_GOI4IwWnKo3"
   },
   "source": [
    "A script to generate a L96 dataset for DAODEN\n",
    "https://arxiv.org/abs/2009.02296\n",
    "\n",
    "- Training set: 200 sequences of length of 150.\n",
    "- Validation set: 50 sequences of length of 150.\n",
    "- Test set: 50 sequences of length of 1000.\n",
    "- dt_integration: 0.01"
   ]
  },
  {
   "cell_type": "markdown",
   "metadata": {
    "colab_type": "text",
    "id": "aRgLQPZrn5Ff"
   },
   "source": [
    "## Config"
   ]
  },
  {
   "cell_type": "code",
   "execution_count": 1,
   "metadata": {
    "colab": {},
    "colab_type": "code",
    "id": "7Etoac1RnKo_"
   },
   "outputs": [],
   "source": [
    "%load_ext autoreload\n",
    "%autoreload 2\n",
    "import numpy as np\n",
    "import matplotlib.pyplot as plt\n",
    "from mpl_toolkits.mplot3d import Axes3D\n",
    "import pickle\n",
    "import os\n",
    "import sys\n",
    "sys.path.append(\"..\")\n",
    "from scipy.integrate import odeint\n",
    "from scipy.integrate import ode\n",
    "from tqdm import tqdm\n",
    "from daoden_datasets import generate_dataset\n",
    "import daoden_utils\n",
    "\n",
    "np.random.seed(1234)\n",
    "\n",
    "\n",
    "N_init = 5000\n",
    "\n",
    "v_mean   = daoden_utils.L96_MEAN.astype(np.float32)\n",
    "v_std    = daoden_utils.L96_STD.astype(np.float32)\n",
    "v_range  = daoden_utils.L96_RANGE.astype(np.float32)"
   ]
  },
  {
   "cell_type": "code",
   "execution_count": 2,
   "metadata": {},
   "outputs": [],
   "source": [
    "### GENERATE DATA (LORENZ-63 MODEL)\n",
    "class Simulator():\n",
    "    model_name = 'L96'\n",
    "    data_dim   = 40\n",
    "    class parameters:\n",
    "        F = 8\n",
    "        J = 40\n",
    "    dt_integration = 0.05 \n",
    "    n_ics_train = 200\n",
    "    n_ics_valid = 50\n",
    "    n_ics_test  = 50\n",
    "    seq_len_train      = 150\n",
    "    seq_len_valid      = 150\n",
    "    seq_len_test       = 1000\n",
    "    noise_ratio        = 0.33\n",
    "simulator = Simulator()"
   ]
  },
  {
   "cell_type": "code",
   "execution_count": 3,
   "metadata": {},
   "outputs": [],
   "source": [
    "def Lorenz96(z,t,F,J):\n",
    "    \"\"\" Lorenz-96 dynamical model. \n",
    "    Argz:\n",
    "        z0: the state. zhape = (J,)\n",
    "        t: time\n",
    "        F,J: the parapeters of L96\n",
    "    Returnz:\n",
    "        dzdt: dz/dt\n",
    "    \"\"\"\n",
    "    x = np.zeros(J);\n",
    "    x[0] = (z[1]-z[J-2])*z[J-1]-z[0];\n",
    "    x[1] = (z[2]-z[J-1])*z[0]-z[1];\n",
    "    x[J-1] = (z[0]-z[J-3])*z[J-2]-z[J-1];\n",
    "    for j in range(2,J-1):\n",
    "        x[j] = (z[j+1]-z[j-2])*z[j-1]-z[j];\n",
    "    dzdt = x.T + F;\n",
    "    return dzdt"
   ]
  },
  {
   "cell_type": "markdown",
   "metadata": {
    "colab_type": "text",
    "id": "0ii1QhOkn9GS"
   },
   "source": [
    "## Generates training sequences"
   ]
  },
  {
   "cell_type": "code",
   "execution_count": 4,
   "metadata": {},
   "outputs": [
    {
     "name": "stderr",
     "output_type": "stream",
     "text": [
      "\r",
      "  0%|          | 0/200 [00:00<?, ?it/s]"
     ]
    },
    {
     "name": "stdout",
     "output_type": "stream",
     "text": [
      "Generating data...\n"
     ]
    },
    {
     "name": "stderr",
     "output_type": "stream",
     "text": [
      "100%|██████████| 200/200 [11:41<00:00,  3.51s/it]"
     ]
    },
    {
     "name": "stdout",
     "output_type": "stream",
     "text": [
      "seqs_train:  (200, 150, 40)\n"
     ]
    },
    {
     "name": "stderr",
     "output_type": "stream",
     "text": [
      "\n"
     ]
    }
   ],
   "source": [
    "ics_train    = v_range*(np.random.rand(simulator.n_ics_train, simulator.data_dim)-.5) + v_mean\n",
    "seqs_train, obs_train, masks_train = generate_dataset(Lorenz96,\n",
    "                                                      ics_train,\n",
    "                                                      simulator.dt_integration,\n",
    "                                                      simulator.seq_len_train,\n",
    "                                                      (simulator.parameters.F,\n",
    "                                                       simulator.parameters.J),\n",
    "                                                      N_init = N_init,\n",
    "                                                      v_std=v_std,\n",
    "                                                      noise_ratio=simulator.noise_ratio,\n",
    "                                                      obs_rate = 1/8\n",
    "                                                      )\n",
    "print(\"seqs_train: \",seqs_train.shape)"
   ]
  },
  {
   "cell_type": "markdown",
   "metadata": {
    "colab_type": "text",
    "id": "BIU7Fs0mnKqx"
   },
   "source": [
    "### Generates validation sequences"
   ]
  },
  {
   "cell_type": "code",
   "execution_count": 5,
   "metadata": {
    "colab": {
     "base_uri": "https://localhost:8080/",
     "height": 35
    },
    "colab_type": "code",
    "executionInfo": {
     "elapsed": 16370,
     "status": "ok",
     "timestamp": 1590769734345,
     "user": {
      "displayName": "Duong Nguyen",
      "photoUrl": "",
      "userId": "02294606848904328056"
     },
     "user_tz": -120
    },
    "id": "yySsFDvZnKq0",
    "outputId": "aca849ff-5aec-4ed6-f230-a3bf66a6b7f9"
   },
   "outputs": [
    {
     "name": "stderr",
     "output_type": "stream",
     "text": [
      "\r",
      "  0%|          | 0/50 [00:00<?, ?it/s]"
     ]
    },
    {
     "name": "stdout",
     "output_type": "stream",
     "text": [
      "Generating data...\n"
     ]
    },
    {
     "name": "stderr",
     "output_type": "stream",
     "text": [
      "100%|██████████| 50/50 [02:57<00:00,  3.55s/it]"
     ]
    },
    {
     "name": "stdout",
     "output_type": "stream",
     "text": [
      "seqs_valid:  (50, 150, 40)\n"
     ]
    },
    {
     "name": "stderr",
     "output_type": "stream",
     "text": [
      "\n"
     ]
    }
   ],
   "source": [
    "ics_valid    = v_range*(np.random.rand(simulator.n_ics_valid, simulator.data_dim)-.5) + v_mean\n",
    "seqs_valid, obs_valid, masks_valid = generate_dataset(Lorenz96,\n",
    "                                                      ics_valid,\n",
    "                                                      simulator.dt_integration,\n",
    "                                                      simulator.seq_len_valid,\n",
    "                                                      (simulator.parameters.F,\n",
    "                                                       simulator.parameters.J),\n",
    "                                                      N_init = N_init,\n",
    "                                                      v_std=v_std,\n",
    "                                                      noise_ratio=simulator.noise_ratio,\n",
    "                                                      obs_rate = 1/8\n",
    "                                                      )\n",
    "print(\"seqs_valid: \",seqs_valid.shape)"
   ]
  },
  {
   "cell_type": "markdown",
   "metadata": {
    "colab_type": "text",
    "id": "HbrV6iUGnKq_"
   },
   "source": [
    "### Generates test sequences"
   ]
  },
  {
   "cell_type": "code",
   "execution_count": 6,
   "metadata": {
    "colab": {
     "base_uri": "https://localhost:8080/",
     "height": 35
    },
    "colab_type": "code",
    "executionInfo": {
     "elapsed": 19813,
     "status": "ok",
     "timestamp": 1590769737811,
     "user": {
      "displayName": "Duong Nguyen",
      "photoUrl": "",
      "userId": "02294606848904328056"
     },
     "user_tz": -120
    },
    "id": "4GoduqcMnKrC",
    "outputId": "2122109b-ebb3-480e-a057-f4ec04ad1acf"
   },
   "outputs": [
    {
     "name": "stderr",
     "output_type": "stream",
     "text": [
      "\r",
      "  0%|          | 0/50 [00:00<?, ?it/s]"
     ]
    },
    {
     "name": "stdout",
     "output_type": "stream",
     "text": [
      "Generating data...\n"
     ]
    },
    {
     "name": "stderr",
     "output_type": "stream",
     "text": [
      "100%|██████████| 50/50 [03:20<00:00,  4.01s/it]"
     ]
    },
    {
     "name": "stdout",
     "output_type": "stream",
     "text": [
      "seqs_test:  (50, 1000, 40)\n"
     ]
    },
    {
     "name": "stderr",
     "output_type": "stream",
     "text": [
      "\n"
     ]
    }
   ],
   "source": [
    "ics_test    = v_range*(np.random.rand(simulator.n_ics_test, simulator.data_dim)-.5) + v_mean\n",
    "seqs_test, obs_test, masks_test    = generate_dataset(Lorenz96,\n",
    "                                                      ics_test,\n",
    "                                                      simulator.dt_integration,\n",
    "                                                      simulator.seq_len_test,\n",
    "                                                      (simulator.parameters.F,\n",
    "                                                       simulator.parameters.J),\n",
    "                                                      N_init = N_init,\n",
    "                                                      v_std=v_std,\n",
    "                                                      noise_ratio=simulator.noise_ratio,\n",
    "                                                      obs_rate = 1/8\n",
    "                                                      )\n",
    "print(\"seqs_test: \",seqs_test.shape)"
   ]
  },
  {
   "cell_type": "code",
   "execution_count": 7,
   "metadata": {},
   "outputs": [
    {
     "name": "stderr",
     "output_type": "stream",
     "text": [
      "/homes/vnguye04/Bureau/Sanssauvegarde/miniconda3/envs/PYTHON3GPU/lib/python3.6/site-packages/ipykernel_launcher.py:6: MatplotlibDeprecationWarning: shading='flat' when X and Y have the same dimensions as C is deprecated since 3.3.  Either specify the corners of the quadrilaterals with X and Y, or pass shading='auto', 'nearest' or 'gouraud', or set rcParams['pcolor.shading'].  This will become an error two minor releases later.\n",
      "  \n"
     ]
    },
    {
     "data": {
      "text/plain": [
       "Text(0.5, 1.0, 'True trajectories')"
      ]
     },
     "execution_count": 7,
     "metadata": {},
     "output_type": "execute_result"
    },
    {
     "data": {
      "image/png": "[encoded data removed]",
      "text/plain": [
       "<Figure size 432x288 with 2 Axes>"
      ]
     },
     "metadata": {
      "needs_background": "light"
     },
     "output_type": "display_data"
    }
   ],
   "source": [
    "N = 100\n",
    "d_idx_seq = 2\n",
    "v_time =np.arange(N)*simulator.dt_integration*1.67\n",
    "[X,Y]=np.meshgrid(v_time,range(simulator.data_dim))\n",
    "plt.subplot(3,1,1);\n",
    "plt.pcolor(X,Y,np.swapaxes(seqs_train[d_idx_seq,:N,:],0,1));\n",
    "plt.ylim([0,simulator.parameters.J-1]);\n",
    "plt.clim([-12,12]);\n",
    "plt.colorbar()\n",
    "plt.xlabel('Lorenz-96 times');\n",
    "plt.title('True trajectories')"
   ]
  },
  {
   "cell_type": "markdown",
   "metadata": {
    "colab_type": "text",
    "id": "z2hq6GHKoIJB"
   },
   "source": [
    "## Save to disk"
   ]
  },
  {
   "cell_type": "code",
   "execution_count": 8,
   "metadata": {
    "colab": {
     "base_uri": "https://localhost:8080/",
     "height": 35
    },
    "colab_type": "code",
    "executionInfo": {
     "elapsed": 20710,
     "status": "ok",
     "timestamp": 1590769738793,
     "user": {
      "displayName": "Duong Nguyen",
      "photoUrl": "",
      "userId": "02294606848904328056"
     },
     "user_tz": -120
    },
    "id": "ydYeHUUwnKrV",
    "outputId": "e30dfe68-6ba5-41cc-f35b-e198d83888ed"
   },
   "outputs": [
    {
     "name": "stdout",
     "output_type": "stream",
     "text": [
      "L96-r-0.33_att\n"
     ]
    }
   ],
   "source": [
    "save_dir = simulator.model_name\\\n",
    "            +\"-r-\"+str(simulator.noise_ratio)+\"_att\"\n",
    "print(save_dir)\n",
    "if not os.path.exists(save_dir):\n",
    "    os.makedirs(save_dir)\n",
    "    \n",
    "np.save(os.path.join(save_dir,\"seqs_train.npy\"),seqs_train)\n",
    "np.save(os.path.join(save_dir,\"obs_train.npy\"),obs_train)\n",
    "np.save(os.path.join(save_dir,\"masks_train.npy\"),masks_train)\n",
    "np.save(os.path.join(save_dir,\"masks.npy\"),masks_train)"
   ]
  },
  {
   "cell_type": "code",
   "execution_count": 9,
   "metadata": {
    "colab": {},
    "colab_type": "code",
    "id": "Z9lOTGJZnKrc"
   },
   "outputs": [],
   "source": [
    "np.save(os.path.join(save_dir,\"seqs_valid.npy\"),seqs_valid)\n",
    "np.save(os.path.join(save_dir,\"obs_valid.npy\"),obs_valid)\n",
    "np.save(os.path.join(save_dir,\"masks_valid.npy\"),masks_valid)"
   ]
  },
  {
   "cell_type": "code",
   "execution_count": 10,
   "metadata": {
    "colab": {},
    "colab_type": "code",
    "id": "pxSzQpGAnKrl"
   },
   "outputs": [],
   "source": [
    "np.save(os.path.join(save_dir,\"seqs_test.npy\"),seqs_test)\n",
    "np.save(os.path.join(save_dir,\"obs_test.npy\"),obs_test)\n",
    "np.save(os.path.join(save_dir,\"masks_test.npy\"),masks_test)"
   ]
  },
  {
   "cell_type": "code",
   "execution_count": null,
   "metadata": {
    "colab": {},
    "colab_type": "code",
    "id": "9NzM7jWknZEu"
   },
   "outputs": [],
   "source": []
  }
 ],
 "metadata": {
  "colab": {
   "collapsed_sections": [],
   "name": "data_generator.ipynb",
   "provenance": [],
   "toc_visible": true
  },
  "kernelspec": {
   "display_name": "Python 3 Tensorflow-gpu",
   "language": "python",
   "name": "python3gpu"
  },
  "language_info": {
   "codemirror_mode": {
    "name": "ipython",
    "version": 3
   },
   "file_extension": ".py",
   "mimetype": "text/x-python",
   "name": "python",
   "nbconvert_exporter": "python",
   "pygments_lexer": "ipython3",
   "version": "3.6.9"
  }
 },
 "nbformat": 4,
 "nbformat_minor": 1
}
